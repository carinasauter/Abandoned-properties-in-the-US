{
 "cells": [
  {
   "cell_type": "code",
   "execution_count": 2,
   "metadata": {
    "collapsed": true
   },
   "outputs": [],
   "source": [
    "import pandas as pd\n",
    "import numpy as np"
   ]
  },
  {
   "cell_type": "code",
   "execution_count": 3,
   "metadata": {
    "collapsed": false
   },
   "outputs": [],
   "source": [
    "data = pd.read_csv('ChicagoVacancy.csv', low_memory=False)"
   ]
  },
  {
   "cell_type": "code",
   "execution_count": 5,
   "metadata": {
    "collapsed": false
   },
   "outputs": [
    {
     "data": {
      "text/plain": [
       "10002"
      ]
     },
     "execution_count": 5,
     "metadata": {},
     "output_type": "execute_result"
    }
   ],
   "source": [
    "len(data)"
   ]
  },
  {
   "cell_type": "code",
   "execution_count": 7,
   "metadata": {
    "collapsed": false
   },
   "outputs": [
    {
     "data": {
      "text/html": [
       "<div>\n",
       "<table border=\"1\" class=\"dataframe\">\n",
       "  <thead>\n",
       "    <tr style=\"text-align: right;\">\n",
       "      <th></th>\n",
       "      <th>SERVICE REQUEST TYPE</th>\n",
       "      <th>SERVICE REQUEST NUMBER</th>\n",
       "      <th>DATE SERVICE REQUEST WAS RECEIVED</th>\n",
       "      <th>LOCATION OF BUILDING ON THE LOT (IF GARAGE, CHANGE TYPE CODE TO BGD).</th>\n",
       "      <th>IS THE BUILDING DANGEROUS OR HAZARDOUS?</th>\n",
       "      <th>IS BUILDING OPEN OR BOARDED?</th>\n",
       "      <th>IF THE BUILDING IS OPEN, WHERE IS THE ENTRY POINT?</th>\n",
       "      <th>IS THE BUILDING CURRENTLY VACANT OR OCCUPIED?</th>\n",
       "      <th>IS THE BUILDING VACANT DUE TO FIRE?</th>\n",
       "      <th>ANY PEOPLE USING PROPERTY? (HOMELESS, CHILDEN, GANGS)</th>\n",
       "      <th>...</th>\n",
       "      <th>ADDRESS STREET SUFFIX</th>\n",
       "      <th>ZIP CODE</th>\n",
       "      <th>X COORDINATE</th>\n",
       "      <th>Y COORDINATE</th>\n",
       "      <th>Ward</th>\n",
       "      <th>Police District</th>\n",
       "      <th>Community Area</th>\n",
       "      <th>LATITUDE</th>\n",
       "      <th>LONGITUDE</th>\n",
       "      <th>Location</th>\n",
       "    </tr>\n",
       "  </thead>\n",
       "  <tbody>\n",
       "    <tr>\n",
       "      <th>0</th>\n",
       "      <td>Vacant/Abandoned Building</td>\n",
       "      <td>13-00001024</td>\n",
       "      <td>1/1/2013</td>\n",
       "      <td>Front</td>\n",
       "      <td>NaN</td>\n",
       "      <td>Open</td>\n",
       "      <td>REAR</td>\n",
       "      <td>Vacant</td>\n",
       "      <td>False</td>\n",
       "      <td>True</td>\n",
       "      <td>...</td>\n",
       "      <td>AVE</td>\n",
       "      <td>60636.0</td>\n",
       "      <td>1164955.305</td>\n",
       "      <td>1856097.262</td>\n",
       "      <td>17</td>\n",
       "      <td>7</td>\n",
       "      <td>67</td>\n",
       "      <td>41.760732</td>\n",
       "      <td>-87.670995</td>\n",
       "      <td>(41.76073193385562, -87.67099502215802)</td>\n",
       "    </tr>\n",
       "    <tr>\n",
       "      <th>1</th>\n",
       "      <td>Vacant/Abandoned Building</td>\n",
       "      <td>13-00001894</td>\n",
       "      <td>1/1/2013</td>\n",
       "      <td>Rear</td>\n",
       "      <td>NaN</td>\n",
       "      <td>Open</td>\n",
       "      <td>REAR</td>\n",
       "      <td>Vacant</td>\n",
       "      <td>False</td>\n",
       "      <td>True</td>\n",
       "      <td>...</td>\n",
       "      <td>AVE</td>\n",
       "      <td>60647.0</td>\n",
       "      <td>1151398.969</td>\n",
       "      <td>1912759.693</td>\n",
       "      <td>26</td>\n",
       "      <td>25</td>\n",
       "      <td>22</td>\n",
       "      <td>41.916497</td>\n",
       "      <td>-87.719195</td>\n",
       "      <td>(41.916496586030924, -87.71919526933623)</td>\n",
       "    </tr>\n",
       "    <tr>\n",
       "      <th>2</th>\n",
       "      <td>Vacant/Abandoned Building</td>\n",
       "      <td>13-00001918</td>\n",
       "      <td>1/1/2013</td>\n",
       "      <td>Front</td>\n",
       "      <td>NaN</td>\n",
       "      <td>Open</td>\n",
       "      <td>FRONT &amp; REAR</td>\n",
       "      <td>Vacant</td>\n",
       "      <td>False</td>\n",
       "      <td>False</td>\n",
       "      <td>...</td>\n",
       "      <td>PL</td>\n",
       "      <td>60615.0</td>\n",
       "      <td>1181868.508</td>\n",
       "      <td>1871686.598</td>\n",
       "      <td>4</td>\n",
       "      <td>2</td>\n",
       "      <td>38</td>\n",
       "      <td>41.803136</td>\n",
       "      <td>-87.608526</td>\n",
       "      <td>(41.80313645070464, -87.6085261060884)</td>\n",
       "    </tr>\n",
       "    <tr>\n",
       "      <th>3</th>\n",
       "      <td>Vacant/Abandoned Building</td>\n",
       "      <td>13-00003271</td>\n",
       "      <td>1/2/2013</td>\n",
       "      <td>Front</td>\n",
       "      <td>NaN</td>\n",
       "      <td>Open</td>\n",
       "      <td>NaN</td>\n",
       "      <td>Vacant</td>\n",
       "      <td>False</td>\n",
       "      <td>False</td>\n",
       "      <td>...</td>\n",
       "      <td>ST</td>\n",
       "      <td>60609.0</td>\n",
       "      <td>1171207.840</td>\n",
       "      <td>1869464.168</td>\n",
       "      <td>20</td>\n",
       "      <td>9</td>\n",
       "      <td>61</td>\n",
       "      <td>41.797278</td>\n",
       "      <td>-87.647689</td>\n",
       "      <td>(41.79727790322774, -87.64768857322565)</td>\n",
       "    </tr>\n",
       "    <tr>\n",
       "      <th>4</th>\n",
       "      <td>Vacant/Abandoned Building</td>\n",
       "      <td>13-00007606</td>\n",
       "      <td>1/2/2013</td>\n",
       "      <td>Front</td>\n",
       "      <td>NaN</td>\n",
       "      <td>Open</td>\n",
       "      <td>REAR</td>\n",
       "      <td>Vacant</td>\n",
       "      <td>False</td>\n",
       "      <td>False</td>\n",
       "      <td>...</td>\n",
       "      <td>AVE</td>\n",
       "      <td>60616.0</td>\n",
       "      <td>1178494.876</td>\n",
       "      <td>1882300.892</td>\n",
       "      <td>3</td>\n",
       "      <td>2</td>\n",
       "      <td>35</td>\n",
       "      <td>41.832340</td>\n",
       "      <td>-87.620576</td>\n",
       "      <td>(41.83234035501337, -87.62057577378516)</td>\n",
       "    </tr>\n",
       "  </tbody>\n",
       "</table>\n",
       "<p>5 rows × 23 columns</p>\n",
       "</div>"
      ],
      "text/plain": [
       "        SERVICE REQUEST TYPE SERVICE REQUEST NUMBER  \\\n",
       "0  Vacant/Abandoned Building            13-00001024   \n",
       "1  Vacant/Abandoned Building            13-00001894   \n",
       "2  Vacant/Abandoned Building            13-00001918   \n",
       "3  Vacant/Abandoned Building            13-00003271   \n",
       "4  Vacant/Abandoned Building            13-00007606   \n",
       "\n",
       "  DATE SERVICE REQUEST WAS RECEIVED  \\\n",
       "0                          1/1/2013   \n",
       "1                          1/1/2013   \n",
       "2                          1/1/2013   \n",
       "3                          1/2/2013   \n",
       "4                          1/2/2013   \n",
       "\n",
       "  LOCATION OF BUILDING ON THE LOT (IF GARAGE, CHANGE TYPE CODE TO BGD).  \\\n",
       "0                                              Front                      \n",
       "1                                               Rear                      \n",
       "2                                              Front                      \n",
       "3                                              Front                      \n",
       "4                                              Front                      \n",
       "\n",
       "   IS THE BUILDING DANGEROUS OR HAZARDOUS? IS BUILDING OPEN OR BOARDED?  \\\n",
       "0                                      NaN                         Open   \n",
       "1                                      NaN                         Open   \n",
       "2                                      NaN                         Open   \n",
       "3                                      NaN                         Open   \n",
       "4                                      NaN                         Open   \n",
       "\n",
       "  IF THE BUILDING IS OPEN, WHERE IS THE ENTRY POINT?  \\\n",
       "0                                               REAR   \n",
       "1                                               REAR   \n",
       "2                                       FRONT & REAR   \n",
       "3                                                NaN   \n",
       "4                                               REAR   \n",
       "\n",
       "  IS THE BUILDING CURRENTLY VACANT OR OCCUPIED?  \\\n",
       "0                                        Vacant   \n",
       "1                                        Vacant   \n",
       "2                                        Vacant   \n",
       "3                                        Vacant   \n",
       "4                                        Vacant   \n",
       "\n",
       "  IS THE BUILDING VACANT DUE TO FIRE?  \\\n",
       "0                               False   \n",
       "1                               False   \n",
       "2                               False   \n",
       "3                               False   \n",
       "4                               False   \n",
       "\n",
       "  ANY PEOPLE USING PROPERTY? (HOMELESS, CHILDEN, GANGS)  \\\n",
       "0                                               True      \n",
       "1                                               True      \n",
       "2                                              False      \n",
       "3                                              False      \n",
       "4                                              False      \n",
       "\n",
       "                     ...                     ADDRESS STREET SUFFIX ZIP CODE  \\\n",
       "0                    ...                                       AVE  60636.0   \n",
       "1                    ...                                       AVE  60647.0   \n",
       "2                    ...                                        PL  60615.0   \n",
       "3                    ...                                        ST  60609.0   \n",
       "4                    ...                                       AVE  60616.0   \n",
       "\n",
       "  X COORDINATE Y COORDINATE  Ward  Police District  Community Area   LATITUDE  \\\n",
       "0  1164955.305  1856097.262    17                7              67  41.760732   \n",
       "1  1151398.969  1912759.693    26               25              22  41.916497   \n",
       "2  1181868.508  1871686.598     4                2              38  41.803136   \n",
       "3  1171207.840  1869464.168    20                9              61  41.797278   \n",
       "4  1178494.876  1882300.892     3                2              35  41.832340   \n",
       "\n",
       "   LONGITUDE                                  Location  \n",
       "0 -87.670995   (41.76073193385562, -87.67099502215802)  \n",
       "1 -87.719195  (41.916496586030924, -87.71919526933623)  \n",
       "2 -87.608526    (41.80313645070464, -87.6085261060884)  \n",
       "3 -87.647689   (41.79727790322774, -87.64768857322565)  \n",
       "4 -87.620576   (41.83234035501337, -87.62057577378516)  \n",
       "\n",
       "[5 rows x 23 columns]"
      ]
     },
     "execution_count": 7,
     "metadata": {},
     "output_type": "execute_result"
    }
   ],
   "source": [
    "data.head()"
   ]
  },
  {
   "cell_type": "code",
   "execution_count": 9,
   "metadata": {
    "collapsed": false
   },
   "outputs": [
    {
     "data": {
      "text/plain": [
       "array(['Vacant/Abandoned Building'], dtype=object)"
      ]
     },
     "execution_count": 9,
     "metadata": {},
     "output_type": "execute_result"
    }
   ],
   "source": [
    "data['SERVICE REQUEST TYPE'].unique()"
   ]
  },
  {
   "cell_type": "code",
   "execution_count": 6,
   "metadata": {
    "collapsed": false
   },
   "outputs": [
    {
     "data": {
      "text/plain": [
       "Index(['SERVICE REQUEST TYPE', 'SERVICE REQUEST NUMBER',\n",
       "       'DATE SERVICE REQUEST WAS RECEIVED',\n",
       "       'LOCATION OF BUILDING ON THE LOT (IF GARAGE, CHANGE TYPE CODE TO BGD).',\n",
       "       'IS THE BUILDING DANGEROUS OR HAZARDOUS?',\n",
       "       'IS BUILDING OPEN OR BOARDED?',\n",
       "       'IF THE BUILDING IS OPEN, WHERE IS THE ENTRY POINT?',\n",
       "       'IS THE BUILDING CURRENTLY VACANT OR OCCUPIED?',\n",
       "       'IS THE BUILDING VACANT DUE TO FIRE?',\n",
       "       'ANY PEOPLE USING PROPERTY? (HOMELESS, CHILDEN, GANGS)',\n",
       "       'ADDRESS STREET NUMBER', 'ADDRESS STREET DIRECTION',\n",
       "       'ADDRESS STREET NAME', 'ADDRESS STREET SUFFIX', 'ZIP CODE',\n",
       "       'X COORDINATE', 'Y COORDINATE', 'Ward', 'Police District',\n",
       "       'Community Area', 'LATITUDE', 'LONGITUDE', 'Location'],\n",
       "      dtype='object')"
      ]
     },
     "execution_count": 6,
     "metadata": {},
     "output_type": "execute_result"
    }
   ],
   "source": [
    "data.columns"
   ]
  },
  {
   "cell_type": "code",
   "execution_count": 11,
   "metadata": {
    "collapsed": false
   },
   "outputs": [],
   "source": [
    "shortened_data = data[[\n",
    "       'DATE SERVICE REQUEST WAS RECEIVED',\n",
    "       'LOCATION OF BUILDING ON THE LOT (IF GARAGE, CHANGE TYPE CODE TO BGD).',\n",
    "       'IS THE BUILDING DANGEROUS OR HAZARDOUS?',\n",
    "       'IS BUILDING OPEN OR BOARDED?',\n",
    "       'IF THE BUILDING IS OPEN, WHERE IS THE ENTRY POINT?',\n",
    "       'IS THE BUILDING CURRENTLY VACANT OR OCCUPIED?',\n",
    "       'IS THE BUILDING VACANT DUE TO FIRE?',\n",
    "       'ANY PEOPLE USING PROPERTY? (HOMELESS, CHILDEN, GANGS)',\n",
    "       'ZIP CODE',\n",
    "       'LATITUDE', 'LONGITUDE']]"
   ]
  },
  {
   "cell_type": "code",
   "execution_count": null,
   "metadata": {
    "collapsed": true
   },
   "outputs": [],
   "source": []
  }
 ],
 "metadata": {
  "kernelspec": {
   "display_name": "Python [conda root]",
   "language": "python",
   "name": "conda-root-py"
  },
  "language_info": {
   "codemirror_mode": {
    "name": "ipython",
    "version": 3
   },
   "file_extension": ".py",
   "mimetype": "text/x-python",
   "name": "python",
   "nbconvert_exporter": "python",
   "pygments_lexer": "ipython3",
   "version": "3.5.2"
  }
 },
 "nbformat": 4,
 "nbformat_minor": 2
}
